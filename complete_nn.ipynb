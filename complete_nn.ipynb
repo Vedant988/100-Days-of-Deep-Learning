{
 "cells": [
  {
   "cell_type": "code",
   "execution_count": 1,
   "metadata": {},
   "outputs": [],
   "source": [
    "import numpy as np\n",
    "\n",
    "class Dense_layer:\n",
    "    def __init__(self,n_inputs,n_neurons):\n",
    "        self.weights = 0.01 * np.random.randn(n_inputs,n_neurons)\n",
    "        self.bias = np.zeros((1,n_neurons))\n",
    "\n",
    "    def forward(self,inputs):\n",
    "        self,inputs = inputs\n",
    "        self.output = np.dot((inputs,self.weights)) + self.bias\n",
    "\n",
    "    def backward(self,dvalues):\n",
    "        self.dweights = np.dot((self.inputs.T,dvalues))\n",
    "        self.dbias = np.sum(dvalues,axis=0,keepdims=True)\n",
    "        self.dinputs = np.dot(dvalues,self.weights.T)\n",
    "\n",
    "\n",
    "class relu_activation:\n",
    "    def forward(self,inputs):\n",
    "        self.inputs = inputs\n",
    "        self.output = np.maximum(0,inputs)\n",
    "    def backward(self,dvalues):\n",
    "        self.dinputs = dvalues.copy()\n",
    "        self.dinputs[self.inputs<=0]=0\n",
    "\n",
    "class Activation_Softmax:\n",
    "    def forward(self, inputs):\n",
    "        exp_values=np.exp(inputs-np.max(inputs,axis=1,keepdims=True))\n",
    "        self.output=exp_values/np.sum(exp_values,axis=1,keepdims=True)\n",
    "\n",
    "class CategoricalCrossentropy:\n",
    "    def calculate(self,predictions,y_true):\n",
    "        samples=predictions.shape[0]\n",
    "        clipped_preds=np.clip(predictions,1e-7,1-1e-7)\n",
    "        correct_confidences=clipped_preds[range(samples),y_true]\n",
    "        negative_log_likelihoods=-np.log(correct_confidences)\n",
    "        return np.mean(negative_log_likelihoods)\n",
    "    \n",
    "class softmax_activation_Categorical_CrossLoss_Entropy:\n",
    "    def __init__(self):\n",
    "        self.activation = Activation_Softmax()\n",
    "        self.loss = CategoricalCrossentropy()\n",
    "\n",
    "    def forward(self,inputs,y_true):\n",
    "        self.activation.forward(inputs)\n",
    "        self.output = self.activation.output\n",
    "        return self.loss.calculate(self.output,y_true)\n",
    "    \n",
    "    def backward(self,dvalue,y_true):\n",
    "        samples = len(dvalue)\n",
    "        if len(y_true.shape)==2:\n",
    "            y_true = np.argmax(y_true,axis=1)\n",
    "        self.dinputs=dvalue.copy()\n",
    "        self.dinputs[range(samples), y_true] -= 1\n",
    "        self.dinputs=self.dinputs/samples"
   ]
  },
  {
   "cell_type": "code",
   "execution_count": null,
   "id": "eaae9c86",
   "metadata": {},
   "outputs": [],
   "source": [
    "X,y = spiral_data(samples=100,classes=3)\n",
    "dense1=Layer_Dense(2,3)\n",
    "activation1=relu_activation()\n",
    "dense2=Layer_Dense(3,3)\n",
    "loss_activation="
   ]
  }
 ],
 "metadata": {
  "kernelspec": {
   "display_name": "Python 3",
   "language": "python",
   "name": "python3"
  },
  "language_info": {
   "codemirror_mode": {
    "name": "ipython",
    "version": 3
   },
   "file_extension": ".py",
   "mimetype": "text/x-python",
   "name": "python",
   "nbconvert_exporter": "python",
   "pygments_lexer": "ipython3",
   "version": "3.11.4"
  }
 },
 "nbformat": 4,
 "nbformat_minor": 5
}
